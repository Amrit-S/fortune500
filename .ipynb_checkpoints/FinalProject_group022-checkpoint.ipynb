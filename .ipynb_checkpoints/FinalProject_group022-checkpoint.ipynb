{
 "cells": [
  {
   "cell_type": "markdown",
   "metadata": {},
   "source": [
    "# COGS 108 - Final Project Proposal"
   ]
  },
  {
   "cell_type": "markdown",
   "metadata": {},
   "source": [
    "# Names\n",
    "\n",
    "- Anuujin Tsedenbal\n",
    "- Deepika Vuppala\n",
    "- Cindy Do\n",
    "- Amrit Singh\n",
    "- Warjeen Suleiman"
   ]
  },
  {
   "cell_type": "markdown",
   "metadata": {},
   "source": [
    "# Group Members IDs\n",
    "\n",
    "- A16176068\n",
    "- A15517918\n",
    "- A15647089\n",
    "- A15532896\n",
    "- A15426055"
   ]
  },
  {
   "cell_type": "markdown",
   "metadata": {},
   "source": [
    "# Research Question"
   ]
  },
  {
   "cell_type": "markdown",
   "metadata": {},
   "source": [
    "*How has the homeless population in San Francisco, California increased/decreased with the recent tech boom?*"
   ]
  },
  {
   "cell_type": "markdown",
   "metadata": {},
   "source": [
    "## Background and Prior Work"
   ]
  },
  {
   "cell_type": "markdown",
   "metadata": {},
   "source": [
    "Several group members’ awareness of the substantially large homeless population in San Diego County spurred our interest in exploring the factors that influence homelessness. Our group is curious about why people become homeless and particularly, why California has such a large homeless population. Additionally, California is one of the major states that tech companies operate in and as a result the growth of tech companies seem to have an influence not only on the general population, but more concerningly, the homeless population. \n",
    "\n",
    "In our research, we found that a large proportion of the U.S. homeless population is in major cities in California (Statista) with almost 8,011 homeless individuals living in San Francisco alone (Sfgov.org). Additionally, San Francisco’s homeless population increased by 14% between 2017 and 2019 (SFgov.org), partially since more people resorted to living in their cars (Business Insider). This information reveals that there is a systemic issue that contributed to the growth of this population over the last few years. We also found that while the homeless population increased, tech companies in San Francisco rapidly expanded and their overall earnings increased with this growth (Business Insider). This highlights the growing wealth gap and how advancements in technology can affect the cost of living/homelessness in this region. After learning this information, we formulated a hypothesis that explores how financial growth of tech companies can be related to the rise of homelessness in San Francisco.\n",
    "\n",
    "\t\n",
    "A report done by Vox Media shows that not only the recent tech boom, but the limited and expensive housing prices have contributed to the growth in the homeless population in San Francisco (Vox). The recent tech boom in the city has attracted more wealthy and privileged individuals to San Francisco and as a result may have contributed to the rising rent prices. Also, the city’s poorly structured housing options (too expensive and limited housing) also limit housing to wealthier individuals and make it difficult for lower-income groups to easily find housing (Vox). Thus, the culmination of these two factors may have contributed to the rising homeless population as the city offers financial growth for individuals in more advancing fields and financial insecurity to others.\n",
    "\n",
    "The data analyzed to answer this question and hypothesis can clarify which factors have contributed to homelessness in the past few years. If we observe a relationship among the data sets we analyze, we could use this information to show the role that technological development may have in homelessness in San Francisco. This information could create an opportunity to eventually change harmful processes that favor the financial well being of some groups more than others. This could mean that cities like San Francisco can cater their efforts to create meaningful solutions to subdue the significant increase of homelessness in the past few years.\n",
    "\n",
    "\n",
    "References (include links):\n",
    "- https://www.businessinsider.com/san-francisco-homeless-population-increase-17-percent-2019-5\n",
    "- https://sfgov.org/scorecards/safety-net/homeless-population\n",
    "- https://www.statista.com/chart/6949/the-us-cities-with-the-most-homeless-people/\n",
    "- https://www.vox.com/a/homeless-san-francisco-tech-boom\n",
    "\n"
   ]
  },
  {
   "cell_type": "markdown",
   "metadata": {},
   "source": [
    "# Hypothesis\n"
   ]
  },
  {
   "cell_type": "markdown",
   "metadata": {},
   "source": [
    "The technological advancements over the past 10 years have led to an increase in the \n",
    "homeless population of San Francisco. These advancements raised the costs of housing which then worsened the gap of income inequality and caused more people to be without housing. Additionally, after becoming homeless, individuals may have found it difficult to find work, and thus got trapped in a cycle that prevented them from escaping this lifestyle. \n"
   ]
  },
  {
   "cell_type": "markdown",
   "metadata": {},
   "source": [
    "# Data"
   ]
  },
  {
   "cell_type": "markdown",
   "metadata": {},
   "source": [
    "The ideal dataset to answer this question would include variables concerning the demographics of the homeless population in San Francisco. It would also include the growth in tech companies in the city over the last 10 years (amount of companies and growth in an individual company). We would find the ideal data set on an online resource and the data would be organized in a csv file. Then we would clean the data and merge any data sets that we would want to use for our data analysis.\n",
    "\n",
    "**Data resources**:\n",
    "- Income inequality\n",
    "    - This dataset provides a Census Bureau with lots of general information of San Francisco’s demographics from 2010-2018. This information will help us better understand the housing/living conditions of the citizens. https://www.census.gov/quickfacts/sanfranciscocountycalifornia\n",
    "    - The following data sets provide statistics on income in San Francisco and California\n",
    "        - https://www.census.gov/newsroom/press-releases/2014/cb14-r31.html\n",
    "        - https://www.deptofnumbers.com/income/california/\n",
    "        - https://statisticalatlas.com/metro-area/California/San-Francisco/Household-Income\n",
    "- Shelters in SF\n",
    "    - Directory Of Unsheltered Street Homeless To General Population\n",
    "        - https://catalog.data.gov/dataset/directory-of-unsheltered-street-homeless-to-general-population-ratio-2011-89d3d\n",
    "- Tech boomings and start-ups\n",
    "    - This dataset explains the advancement in water management within San Francisco. With this data we hope to who these innovations actually benefit and if it further widen the gap of income inequality. https://catalog.data.gov/dataset/water-bodies-2ca2b\n",
    "    - This dataset includes information of the authorized drone usage in San Francisco. From this we hope to understand the extent of the technological advancements San Francisco experienced. https://catalog.data.gov/dataset/authorized-drone-uses\n",
    "- Homeless population growth in SF\n",
    "    - This dataset provides general information on the demographics of San Francisco’s homeless population from 2005-2019. It also gives data on the sheltered versus unsheltered individuala. https://sfgov.org/scorecards/safety-net/homeless-population\n",
    "\n"
   ]
  },
  {
   "cell_type": "markdown",
   "metadata": {},
   "source": [
    "# Ethics & Privacy"
   ]
  },
  {
   "cell_type": "markdown",
   "metadata": {},
   "source": [
    "Our question is indeed answerable since it can be analyzed via correlations between progress in technological advancements (percentages of industrialization)  and the corresponding increase/decrease in the homeless population in San Francisco (via percentages) over a certain period of time. With San Francisco being a major technological hub, especially Silicon Valley, for Apple and Google, information on technological advancement should be available. Moreover, since San Francisco is also one of the most populated cities in the United States, up-to-date records of the homeless situation should be readily available as well. \n",
    "\n",
    "The information gathered from our project is intended to provide further clarity to the debate between technological advancement and its impact on employment. Specifically, technological progress is justified as providing more long term employment, and thereby less homeless rates by extension; however, the data gathered may instead illustrate the opposite - namely technological advancements lead to higher homelessness rates due to it weeding out lower skilled labor out of the workforce.  Considering that homelessness does often associate itself with victims with lower educational backgrounds, and therefore exist within a lower skilled labor force,  this may end up being the case. \n",
    "\n",
    "We acknowledge that data and research regarding homeless individuals should be handled more cautiously as they are  vulnerable research subjects who may be influenced by certain factors. However, as we are not planning on gathering our own data and research, rather we are relying on pre-existing datasets, this should not be a concern for our project.  This argument can be further extended to the spheres of privacy and anonymization - both of which also do not concern our project for the aforementioned reason. \n",
    "\n",
    "Machine Learning and Deep Learning based models are more likely to bring problems with “black boxes”. For example, in the case of Facial Recognition projects for Deep Learning, they rely on the creation of a Convolution Neural Network (CNN) that “blindly” analyzes a set of data and tries to make connections. This would indeed make it hard for people to appeal the results of the model since Deep Learning holds little transparency due to its fundamental design. However, since our project is based on a research question, it holds itself to be relatively transparent and easy to appeal, as most analysis will be done through investigation of data sets. Accordingly, these data sets can be easily provided to the public. \n"
   ]
  },
  {
   "cell_type": "markdown",
   "metadata": {},
   "source": [
    "# Team Expectations "
   ]
  },
  {
   "cell_type": "markdown",
   "metadata": {},
   "source": [
    "* *Meet at least twice a week- standardized to Tuesdays (2-3PM) and Fridays (3-4PM).*\n",
    "    * *Be on time for these meetings.*\n",
    "    * *If a team member cannot make a meeting time/is running late, they must communicate to the rest of the team using the team Slack.*\n",
    "* *Finish work/research by the agreed deadlines, or notify the team of problems finishing said work at least 12 hours before the deadline.*\n",
    "* *Respond to any inquiries on the team Slack ASAP (within 24 hours).*\n",
    "* *Contribute during team meetings in a respectable, constructive manner.*\n",
    "* *Group decisions should be made unanimously by the group, not by any one individual.*\n",
    "* *Decisions optioned by one member must be approved by the rest of the group.*\n",
    "* *Be flexible with last minute scheduling conflicts.*\n",
    "    * *If online meetings are not possible for whatever reason, one member who did go to the meeting should update the member who was unable to attend.*\n",
    "* *Goals should be effectively communicated to make sure everyone is on the same page.*\n",
    "* *Cooperate with the rest of the team - no individual hiatuses or group separation.*\n",
    "* *If group issue arises, always communicate within the group before considering going to Professor Ellis.*\n",
    "* *Work should be split as evenly as possible - no one member should be carrying the project.*"
   ]
  },
  {
   "cell_type": "markdown",
   "metadata": {},
   "source": [
    "# Project Timeline Proposal"
   ]
  },
  {
   "cell_type": "markdown",
   "metadata": {},
   "source": [
    "| Meeting Date  | Meeting Time| Completed Before Meeting  | Discuss at Meeting |\n",
    "|---|---|---|---|\n",
    "| 1/28  |  2 PM | Read & Think about COGS 108 expectations; brainstorm topics/questions  | Determine best form of communication; Discuss and decide on final project topic; discuss hypothesis; begin background research | \n",
    "| 1/31  |  3 PM |  Do background research on topic | Discuss ideal dataset(s) and ethics; draft project proposal | \n",
    "| 2/4  | 2 PM  | Edit, finalize, and submit proposal; Search for datasets  | Discuss Wrangling and possible analytical approaches; Assign group members to lead each specific part   |\n",
    "| 2/7  | 3 PM  | Find more data sets and start wrangling data| help each other with wrangling data   |\n",
    "| 2/11  | 2 PM | Import & Wrangle Data| Review/Edit wrangling/EDA; Discuss Analysis Plan   |\n",
    "| 2/14  | 3 PM  | Finalize wrangling/EDA; Begin Analysis| Discuss/edit Analysis|\n",
    "| 2/18  | 2 PM  | Finalize wrangling/EDA; Begin Analysis| Discuss/edit Analysis\n",
    "| 2/21  | 3 PM  | Finish data wrangling | Start analysis and work on project check-in| Review analysis and review procedures and submit project check in|\n",
    "| 2/25  | 2 PM  | Work more on analysis|Edit/review analysis\n",
    "| 2/28  | 3 PM  | Refine Analysis| Discuss/edit Analysis; Complete project check-in |\n",
    "| 3/3  | 2 PM  | Complete analysis; Draft results/conclusion/discussion| Discuss/edit full project |\n",
    "| 3/7  | 3 PM  | Work on finalizing report| Complete analysis; Draft results/conclusion/discussion| Discuss/edit full project |\n",
    "| 3/11  | 2 PM  | Complete analysis; Draft results/conclusion/discussion| Discuss/edit full project |\n",
    "| 3/14  | 3 PM |Refine final project and submit Group Project Surveys|refine Final Project |\n",
    "| 3/19  | Before 11:59 PM  | NA | Turn in Final Project|"
   ]
  }
 ],
 "metadata": {
  "kernelspec": {
   "display_name": "Python 3",
   "language": "python",
   "name": "python3"
  },
  "language_info": {
   "codemirror_mode": {
    "name": "ipython",
    "version": 3
   },
   "file_extension": ".py",
   "mimetype": "text/x-python",
   "name": "python",
   "nbconvert_exporter": "python",
   "pygments_lexer": "ipython3",
   "version": "3.7.4"
  }
 },
 "nbformat": 4,
 "nbformat_minor": 2
}
